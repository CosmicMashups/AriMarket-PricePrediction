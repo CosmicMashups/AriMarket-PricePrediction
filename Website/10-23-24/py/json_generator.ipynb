{
 "cells": [
  {
   "cell_type": "code",
   "execution_count": 1,
   "id": "efa1f54e-c2d1-443c-a480-640675b27bd6",
   "metadata": {},
   "outputs": [
    {
     "name": "stdout",
     "output_type": "stream",
     "text": [
      "Requirement already satisfied: pmdarima in d:\\programs\\python\\lib\\site-packages (2.0.4)\n",
      "Requirement already satisfied: joblib>=0.11 in d:\\programs\\python\\lib\\site-packages (from pmdarima) (1.4.2)\n",
      "Requirement already satisfied: Cython!=0.29.18,!=0.29.31,>=0.29 in d:\\programs\\python\\lib\\site-packages (from pmdarima) (3.0.11)\n",
      "Requirement already satisfied: numpy>=1.21.2 in d:\\programs\\python\\lib\\site-packages (from pmdarima) (1.26.4)\n",
      "Requirement already satisfied: pandas>=0.19 in d:\\programs\\python\\lib\\site-packages (from pmdarima) (2.2.2)\n",
      "Requirement already satisfied: scikit-learn>=0.22 in d:\\programs\\python\\lib\\site-packages (from pmdarima) (1.5.1)\n",
      "Requirement already satisfied: scipy>=1.3.2 in d:\\programs\\python\\lib\\site-packages (from pmdarima) (1.14.0)\n",
      "Requirement already satisfied: statsmodels>=0.13.2 in d:\\programs\\python\\lib\\site-packages (from pmdarima) (0.14.2)\n",
      "Requirement already satisfied: urllib3 in d:\\programs\\python\\lib\\site-packages (from pmdarima) (1.26.20)\n",
      "Requirement already satisfied: setuptools!=50.0.0,>=38.6.0 in d:\\programs\\python\\lib\\site-packages (from pmdarima) (65.5.0)\n",
      "Requirement already satisfied: packaging>=17.1 in d:\\programs\\python\\lib\\site-packages (from pmdarima) (24.1)\n",
      "Requirement already satisfied: python-dateutil>=2.8.2 in d:\\programs\\python\\lib\\site-packages (from pandas>=0.19->pmdarima) (2.9.0.post0)\n",
      "Requirement already satisfied: pytz>=2020.1 in d:\\programs\\python\\lib\\site-packages (from pandas>=0.19->pmdarima) (2024.1)\n",
      "Requirement already satisfied: tzdata>=2022.7 in d:\\programs\\python\\lib\\site-packages (from pandas>=0.19->pmdarima) (2024.1)\n",
      "Requirement already satisfied: threadpoolctl>=3.1.0 in d:\\programs\\python\\lib\\site-packages (from scikit-learn>=0.22->pmdarima) (3.5.0)\n",
      "Requirement already satisfied: patsy>=0.5.6 in d:\\programs\\python\\lib\\site-packages (from statsmodels>=0.13.2->pmdarima) (0.5.6)\n",
      "Requirement already satisfied: six in d:\\programs\\python\\lib\\site-packages (from patsy>=0.5.6->statsmodels>=0.13.2->pmdarima) (1.16.0)\n",
      "Note: you may need to restart the kernel to use updated packages.\n"
     ]
    }
   ],
   "source": [
    "pip install pmdarima"
   ]
  },
  {
   "cell_type": "code",
   "execution_count": 2,
   "id": "c437b125-813b-46dc-b31b-e671a519573c",
   "metadata": {},
   "outputs": [],
   "source": [
    "import warnings\n",
    "warnings.filterwarnings('ignore')"
   ]
  },
  {
   "cell_type": "code",
   "execution_count": 3,
   "id": "212a8599-d1c7-4627-93cc-6c7d65c491b5",
   "metadata": {},
   "outputs": [],
   "source": [
    "# Import libraries\n",
    "import pandas as pd\n",
    "import numpy as np\n",
    "import json\n",
    "from statsmodels.tsa.arima.model import ARIMA\n",
    "\n",
    "# FUNCTION: Training and testing the model on the full dataset\n",
    "def predict(commodity, csv_path, json_path, p, d, q):\n",
    "    print(f'You have chosen {commodity}.')\n",
    "\n",
    "    df = pd.read_csv(csv_path, index_col='Date', parse_dates=True)\n",
    "    \n",
    "    # Re-train the model on the entire dataset, then predict future prices\n",
    "    model = ARIMA(df['High'], order=(p, d, q))\n",
    "    model = model.fit(method_kwargs={'warn_convergence': False})\n",
    "\n",
    "    # For Future Dates\n",
    "    # index_future_dates = pd.date_range(start='2024-08-30', end='2024-11-30')\n",
    "    index_future_dates = pd.date_range(start='2023-06-09', end='2023-07-30')\n",
    "    \n",
    "    # Run the prediction\n",
    "    start = len(df)\n",
    "    end = len(df) + len(index_future_dates) - 1\n",
    "    predict = model.predict(start=start, end=end, typ='levels').rename('ARIMA')\n",
    "    \n",
    "    # Transform predict from Series to DataFrame\n",
    "    predict_df = pd.DataFrame(predict)\n",
    "    \n",
    "    # Reset the index to turn it into a column\n",
    "    predict_df = predict_df.reset_index(drop=True)\n",
    "    \n",
    "    # Add the future dates as a new column 'Index'\n",
    "    predict_df['Index'] = index_future_dates\n",
    "\n",
    "    # Reset the index of the column\n",
    "    df = df.reset_index()\n",
    "    df = df.rename(columns={'index': 'Date'})\n",
    "\n",
    "    # Given timestamp\n",
    "    start_date = df['Date'].iloc[-1]\n",
    "    start_date = pd.Timestamp(start_date)\n",
    "    \n",
    "    # End date, which is 7 days after the start date\n",
    "    end_date = start_date + pd.Timedelta(days=7)\n",
    "    \n",
    "    # Create a date range\n",
    "    date_range = pd.date_range(start=start_date, end=end_date).strftime('%Y-%m-%d')\n",
    "\n",
    "    p7p = []\n",
    "    p7d = []\n",
    "    for day in range(7):\n",
    "        filtered_df = predict_df[predict_df['Index'] == date_range[day+1]]\n",
    "        p7p.append(filtered_df['ARIMA'].values[0])\n",
    "        p7d.append(str(date_range[day+1]))\n",
    "\n",
    "    # Return the results as a dictionary and convert to JSON\n",
    "    results = {\n",
    "        'dates': p7d,\n",
    "        'prices': p7p\n",
    "    }\n",
    "\n",
    "    # Write the results to a JSON file\n",
    "    with open(json_path, 'w') as f:\n",
    "        json.dump(results, f)\n",
    "\n",
    "    return results"
   ]
  },
  {
   "cell_type": "code",
   "execution_count": 4,
   "id": "69642611-4400-47d1-8715-88a6b5190723",
   "metadata": {},
   "outputs": [
    {
     "name": "stdout",
     "output_type": "stream",
     "text": [
      "../csv/spices/onion.csv\n",
      "json/onion.json\n",
      "You have chosen onion.\n"
     ]
    },
    {
     "name": "stderr",
     "output_type": "stream",
     "text": [
      "D:\\Programs\\Python\\Lib\\site-packages\\statsmodels\\tsa\\base\\tsa_model.py:473: ValueWarning: No frequency information was provided, so inferred frequency B will be used.\n",
      "  self._init_dates(dates, freq)\n",
      "D:\\Programs\\Python\\Lib\\site-packages\\statsmodels\\tsa\\base\\tsa_model.py:473: ValueWarning: No frequency information was provided, so inferred frequency B will be used.\n",
      "  self._init_dates(dates, freq)\n",
      "D:\\Programs\\Python\\Lib\\site-packages\\statsmodels\\tsa\\base\\tsa_model.py:473: ValueWarning: No frequency information was provided, so inferred frequency B will be used.\n",
      "  self._init_dates(dates, freq)\n"
     ]
    },
    {
     "name": "stdout",
     "output_type": "stream",
     "text": [
      "{'dates': ['2023-06-10', '2023-06-11', '2023-06-12', '2023-06-13', '2023-06-14', '2023-06-15', '2023-06-16'], 'prices': [178.58821202851138, 178.03530109619172, 177.58447067867544, 177.20835264808025, 176.92373084014613, 176.52067963474607, 169.83210162813606]}\n",
      "../csv/spices/garlic.csv\n",
      "json/garlic.json\n",
      "You have chosen garlic.\n"
     ]
    },
    {
     "name": "stderr",
     "output_type": "stream",
     "text": [
      "D:\\Programs\\Python\\Lib\\site-packages\\statsmodels\\tsa\\base\\tsa_model.py:473: ValueWarning: No frequency information was provided, so inferred frequency B will be used.\n",
      "  self._init_dates(dates, freq)\n",
      "D:\\Programs\\Python\\Lib\\site-packages\\statsmodels\\tsa\\base\\tsa_model.py:473: ValueWarning: No frequency information was provided, so inferred frequency B will be used.\n",
      "  self._init_dates(dates, freq)\n",
      "D:\\Programs\\Python\\Lib\\site-packages\\statsmodels\\tsa\\base\\tsa_model.py:473: ValueWarning: No frequency information was provided, so inferred frequency B will be used.\n",
      "  self._init_dates(dates, freq)\n"
     ]
    },
    {
     "name": "stdout",
     "output_type": "stream",
     "text": [
      "{'dates': ['2023-06-10', '2023-06-11', '2023-06-12', '2023-06-13', '2023-06-14', '2023-06-15', '2023-06-16'], 'prices': [151.18180343310732, 150.5968706388051, 150.00175213630177, 149.86769294064737, 150.40005204984885, 150.98470702533865, 151.0018684477946]}\n"
     ]
    }
   ],
   "source": [
    "# DICTIONARY\n",
    "commodity = {}\n",
    "\n",
    "# Map the elements from the lists to their corresponding numbers\n",
    "# commodity['rice'] = {'regular_milled_rice': (5, 0, 5), 'well_milled_rice': (2, 0, 2), 'premium_rice': (9, 0, 9), 'special_rice': (2, 0, 2)}\n",
    "# commodity['meat'] = {'beef_brisket': (3, 1, 3), 'beef_rump': (9, 0, 9), 'whole_chicken': (3, 1, 7), 'pork_belly': (4, 1, 5), 'pork_ham': (2, 1, 5)}\n",
    "# commodity['fish'] = {'alumahan': (3, 1, 6), 'bangus': (5, 1, 5), 'galunggong': (3, 1, 5), 'tilapia': (1, 0, 1)}\n",
    "# commodity['fruits'] = {'banana_lakatan': (3, 1, 3), 'calamansi': (3, 1, 9), 'mango': (4, 1, 7), 'papaya': (0, 0, 0)}\n",
    "# commodity['vegetables'] = {'cabbage': (1, 1, 16), 'carrots': (2, 1, 9), 'eggplant': (2, 1, 5), 'tomato': (12, 1, 9), 'white_potato': (19, 1, 5)}\n",
    "commodity['spices'] = {'onion': (10, 2, 2), 'garlic': (4, 1, 2)}\n",
    "\n",
    "for group_commodity, specific_commodities in commodity.items():\n",
    "    for specific_commodity, parameters in specific_commodities.items():\n",
    "        p, d, q = parameters\n",
    "        csv_path = '../csv/' + group_commodity + '/' + specific_commodity + '.csv'\n",
    "        json_path = 'json/' + specific_commodity + '.json'\n",
    "        print(csv_path)\n",
    "        print(json_path)\n",
    "        \n",
    "        # Generate JSON files\n",
    "        result = predict(specific_commodity, csv_path, json_path, p, d, q)\n",
    "        print(result)"
   ]
  },
  {
   "cell_type": "code",
   "execution_count": null,
   "id": "3eb4e4e9-1d03-469c-aff7-ffd3a16c139d",
   "metadata": {},
   "outputs": [],
   "source": []
  }
 ],
 "metadata": {
  "kernelspec": {
   "display_name": "Python 3 (ipykernel)",
   "language": "python",
   "name": "python3"
  },
  "language_info": {
   "codemirror_mode": {
    "name": "ipython",
    "version": 3
   },
   "file_extension": ".py",
   "mimetype": "text/x-python",
   "name": "python",
   "nbconvert_exporter": "python",
   "pygments_lexer": "ipython3",
   "version": "3.11.2"
  }
 },
 "nbformat": 4,
 "nbformat_minor": 5
}
